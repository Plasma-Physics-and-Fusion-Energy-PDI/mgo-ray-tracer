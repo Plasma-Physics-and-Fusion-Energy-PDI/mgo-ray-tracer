{
 "cells": [
  {
   "cell_type": "code",
   "execution_count": null,
   "metadata": {},
   "outputs": [],
   "source": [
    "import sys\n",
    "sys.path.append('../')\n",
    "\n",
    "import numpy as np\n",
    "import matplotlib.pyplot as plt\n",
    "from matplotlib import cm"
   ]
  },
  {
   "attachments": {},
   "cell_type": "markdown",
   "metadata": {},
   "source": [
    "#### Final solution"
   ]
  },
  {
   "cell_type": "code",
   "execution_count": 20,
   "metadata": {},
   "outputs": [],
   "source": [
    "# # For path that doesn't cross 0 in the complex plane:\n",
    "# def continuous_angle(z, axis=0):\n",
    "#     z0 = np.take(z, 0, axis=axis)\n",
    "#     arg0 = np.angle(z0)\n",
    "#     return arg0 + np.cumsum(np.imag(np.diff(z, prepend=z0)/z))\n",
    "\n",
    "# def continuous_sqrt(z, axis=0):\n",
    "#     return np.sqrt(np.abs(z)) * np.exp(1j*continuous_angle(z)/2)\n",
    "\n",
    "# For path of real numbers that may through 0 (we can only guarentee that the phase is weakly monotonically increasing):\n",
    "def continuous_angle_of_reals(x, axis=0):\n",
    "    sgn = np.sign(x)\n",
    "    sgn0 = np.take(sgn, 0, axis=axis)\n",
    "    return np.angle(x) + 2*np.pi*np.cumsum(np.heaviside(np.diff(sgn, prepend=sgn0, axis=axis), 0), axis=axis)\n",
    "\n",
    "def continuous_sqrt_of_reals(x, axis=0):\n",
    "    return np.sqrt(np.abs(x)) * np.exp(1j*continuous_angle_of_reals(x, axis=axis)/2)"
   ]
  },
  {
   "attachments": {},
   "cell_type": "markdown",
   "metadata": {},
   "source": [
    "#### Experiments"
   ]
  },
  {
   "cell_type": "code",
   "execution_count": 10,
   "metadata": {},
   "outputs": [],
   "source": [
    "def get_phase(z, branch_cut_dir=np.pi):\n",
    "    phase = np.angle(z) % (2*np.pi)\n",
    "    phase = (phase - branch_cut_dir) % (2*np.pi) + branch_cut_dir\n",
    "    return phase\n",
    "\n",
    "def sqrt_with_branch_cut(z, branch_cut_dir=np.pi, phase=None):\n",
    "    amplitude = np.abs(z)\n",
    "    if phase is None:\n",
    "        phase = get_phase(z, branch_cut_dir=branch_cut_dir)\n",
    "    return np.sqrt(amplitude)*np.exp(1j*(phase)/2)"
   ]
  },
  {
   "cell_type": "code",
   "execution_count": 11,
   "metadata": {},
   "outputs": [],
   "source": [
    "%matplotlib qt"
   ]
  },
  {
   "cell_type": "code",
   "execution_count": 12,
   "metadata": {},
   "outputs": [],
   "source": [
    "fig, ax = plt.subplots(subplot_kw={\"projection\": \"3d\"})\n",
    "z1 = np.linspace(-1, 1)\n",
    "z2 = np.linspace(-1, 1)\n",
    "Z1, Z2 = np.meshgrid(z1, z2)\n",
    "\n",
    "# Plot the surface.\n",
    "branch_cut_dir = np.pi/2\n",
    "ax.set_title(r'arg $z$ with branch cut in dir: ' + str(branch_cut_dir/np.pi) + r'$\\pi$')\n",
    "surf = ax.plot_surface(Z1, Z2, get_phase(Z1+1j*Z2, branch_cut_dir=-np.pi), cmap=cm.coolwarm,\n",
    "                       linewidth=0, antialiased=False)\n",
    "ax.set_xlabel(r'Re $z$')\n",
    "ax.set_ylabel(r'Im $z$')\n",
    "# ax.view_init(90, 0, 90)\n",
    "\n",
    "fig.show()"
   ]
  },
  {
   "cell_type": "code",
   "execution_count": 13,
   "metadata": {},
   "outputs": [],
   "source": [
    "fig, ax = plt.subplots(subplot_kw={\"projection\": \"3d\"})\n",
    "z1 = np.linspace(-1, 1)\n",
    "z2 = np.linspace(-1, 1)\n",
    "Z1, Z2 = np.meshgrid(z1, z2)\n",
    "\n",
    "# Plot the surface.\n",
    "branch_cut_dir = np.pi/2\n",
    "ax.set_title(r'Re $z^{1/2}$ with branch cut in dir: ' + str(branch_cut_dir/np.pi) + r'$\\pi$')\n",
    "surf = ax.plot_surface(Z1, Z2, np.real(sqrt_with_branch_cut(Z1+1j*Z2, branch_cut_dir=branch_cut_dir)), cmap=cm.coolwarm,\n",
    "                       linewidth=0, antialiased=False)\n",
    "ax.set_xlabel(r'Re $z$')\n",
    "ax.set_ylabel(r'Im $z$')\n",
    "# ax.view_init(90, 0, 90)\n",
    "fig.show()"
   ]
  },
  {
   "cell_type": "code",
   "execution_count": 14,
   "metadata": {},
   "outputs": [],
   "source": [
    "fig, ax = plt.subplots(subplot_kw={\"projection\": \"3d\"})\n",
    "z1 = np.linspace(-1, 1)\n",
    "z2 = np.linspace(-1, 1)\n",
    "Z1, Z2 = np.meshgrid(z1, z2)\n",
    "\n",
    "# Plot the surface.\n",
    "ax.set_title(r'Im $z^{1/2}$ with branch cut in dir: ' + str(branch_cut_dir/np.pi) + r'$\\pi$')\n",
    "surf = ax.plot_surface(Z1, Z2, np.imag(sqrt_with_branch_cut(Z1+1j*Z2, branch_cut_dir=branch_cut_dir)), cmap=cm.coolwarm,\n",
    "                       linewidth=0, antialiased=False)\n",
    "ax.set_xlabel(r'Re $z$')\n",
    "ax.set_ylabel(r'Im $z$')\n",
    "# ax.view_init(90, 0, 90)\n",
    "fig.show()"
   ]
  },
  {
   "cell_type": "code",
   "execution_count": 15,
   "metadata": {},
   "outputs": [],
   "source": [
    "fig, ax = plt.subplots(subplot_kw={\"projection\": \"3d\"})\n",
    "z1 = np.linspace(-1, 1)\n",
    "z2 = np.linspace(-1, 1)\n",
    "Z1, Z2 = np.meshgrid(z1, z2)\n",
    "\n",
    "# Plot the surface.\n",
    "ax.set_title(r'Re np.emath.sqrt($z$)')\n",
    "surf = ax.plot_surface(Z1, Z2, np.real(np.emath.sqrt(Z1+1j*Z2)), cmap=cm.coolwarm,\n",
    "                       linewidth=0, antialiased=False)\n",
    "ax.set_xlabel(r'Re $z$')\n",
    "ax.set_ylabel(r'Im $z$')\n",
    "# ax.view_init(90, 0, 90)\n",
    "fig.show()"
   ]
  },
  {
   "cell_type": "code",
   "execution_count": 16,
   "metadata": {},
   "outputs": [],
   "source": [
    "fig, ax = plt.subplots(subplot_kw={\"projection\": \"3d\"})\n",
    "z1 = np.linspace(-1, 1)\n",
    "z2 = np.linspace(-1, 1)\n",
    "Z1, Z2 = np.meshgrid(z1, z2)\n",
    "\n",
    "# Plot the surface.\n",
    "ax.set_title(r'Im np.emath.sqrt($z$)')\n",
    "surf = ax.plot_surface(Z1, Z2, np.imag(np.emath.sqrt(Z1+1j*Z2)), cmap=cm.coolwarm,\n",
    "                       linewidth=0, antialiased=False)\n",
    "ax.set_xlabel(r'Re $z$')\n",
    "ax.set_ylabel(r'Im $z$')\n",
    "# ax.view_init(90, 0, 90)\n",
    "fig.show()"
   ]
  },
  {
   "cell_type": "code",
   "execution_count": 17,
   "metadata": {},
   "outputs": [],
   "source": [
    "%matplotlib inline"
   ]
  }
 ],
 "metadata": {
  "kernelspec": {
   "display_name": "ray-tracer",
   "language": "python",
   "name": "python3"
  },
  "language_info": {
   "codemirror_mode": {
    "name": "ipython",
    "version": 3
   },
   "file_extension": ".py",
   "mimetype": "text/x-python",
   "name": "python",
   "nbconvert_exporter": "python",
   "pygments_lexer": "ipython3",
   "version": "3.9.12"
  },
  "orig_nbformat": 4
 },
 "nbformat": 4,
 "nbformat_minor": 2
}
