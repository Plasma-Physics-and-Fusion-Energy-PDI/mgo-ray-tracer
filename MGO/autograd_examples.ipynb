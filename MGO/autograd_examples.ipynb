{
 "cells": [
  {
   "attachments": {},
   "cell_type": "markdown",
   "metadata": {},
   "source": [
    "# Showcase of Automatic Differentiation using my torch helper"
   ]
  },
  {
   "cell_type": "code",
   "execution_count": 1,
   "metadata": {},
   "outputs": [],
   "source": [
    "import numpy as np\n",
    "import matplotlib.pyplot as plt\n",
    "import torch\n",
    "from torch_helper import to_torch, to_torch_3D, torch_func, inner_product, angle, grad\n",
    "import inspect"
   ]
  },
  {
   "attachments": {},
   "cell_type": "markdown",
   "metadata": {},
   "source": [
    "To use automatic differentiation of the dispersion\n",
    "function and its' dependencies, all calculations\n",
    "must be done using torch tensors. I've build a wrapper\n",
    "function called `torch_func` which may be used as a\n",
    "decorator (see example below).\n",
    "\n",
    "**Supported Annotations**\n",
    "\n",
    "The wrapper expects all function parameters to be\n",
    "annotated; telling us whether each function parameter\n",
    "is to be parsed to a torch tensor (annotated `('scalar')`),\n",
    "a 3D torch tensor (annotated `('vector')`)\n",
    "or is not to be parsed at all (annotated `('any')`).\n",
    "Please, refer to the example below.\n",
    "\n",
    "**Detach Annotation**\n",
    "\n",
    "You can also use annotations to tell that the torch tensor\n",
    "should also be detached before performing the calculations\n",
    "(to exclude it from the backward differentation step).\n",
    "\n",
    "**Note:** The annotations do not set requirements for the\n",
    "type of the input variables, but instead provides guidence\n",
    "on how to parse the input before performing the function\n",
    "call. Thus, the user may give numpy arrays as input for\n",
    "a function decorated with `@torch_func`."
   ]
  },
  {
   "attachments": {},
   "cell_type": "markdown",
   "metadata": {},
   "source": [
    "## Examples"
   ]
  },
  {
   "attachments": {},
   "cell_type": "markdown",
   "metadata": {},
   "source": [
    "### Evaluating $f : \\mathbb{R} \\to \\mathbb{R}$ using numpy array as input"
   ]
  },
  {
   "cell_type": "code",
   "execution_count": 20,
   "metadata": {},
   "outputs": [
    {
     "data": {
      "image/png": "[encoded data removed]",
      "text/plain": [
       "<Figure size 300x200 with 1 Axes>"
      ]
     },
     "metadata": {},
     "output_type": "display_data"
    }
   ],
   "source": [
    "a, b, c = 3, 4, 5\n",
    "\n",
    "@torch_func\n",
    "def f1(x: ('scalar')):\n",
    "    return 0.5 * a * (x**2) + b * x + c\n",
    "\n",
    "# Plot torch func from -4 to 2\n",
    "x_n = np.linspace(-4, 2, 100)\n",
    "plt.figure(figsize=(3,2))\n",
    "plt.plot(x_n, f1(x_n))\n",
    "plt.show()"
   ]
  },
  {
   "attachments": {},
   "cell_type": "markdown",
   "metadata": {},
   "source": [
    "### $f : \\mathbb{R} \\to \\mathbb{R}$. First and Second Derivatives of one argument."
   ]
  },
  {
   "cell_type": "code",
   "execution_count": 2,
   "metadata": {},
   "outputs": [],
   "source": [
    "# Test 1: Scalar to scalar function. f1 : R -> R\n",
    "# Comparison of analytical and autograd expression.\n",
    "\n",
    "@torch_func\n",
    "def df1(x: ('scalar')):\n",
    "    return a * x + b\n",
    "\n",
    "@torch_func\n",
    "def ddf1(x: ('scalar')):\n",
    "    return a\n",
    "\n",
    "x_n = np.array([3.0])\n",
    "x_t = torch.tensor(x_n, requires_grad=True)\n",
    "\n",
    "# f1_x = grad(f1(x_t), x_t, create_graph=True)[0]\n",
    "# f1_xx = grad(f1_x, x_t, create_graph=True)[0]\n",
    "\n",
    "f1_x = grad(f1(x_t), x_t)\n",
    "f1_xx = grad(grad(f1(x_t), x_t), x_t)\n",
    "\n",
    "assert f1_x == df1(x_t)\n",
    "assert f1_xx == ddf1(x_t)"
   ]
  },
  {
   "attachments": {},
   "cell_type": "markdown",
   "metadata": {},
   "source": [
    "### $f : \\mathbb{R} \\to \\mathbb{R}$. First and Second Derivatives of a range of scalar arguments."
   ]
  },
  {
   "cell_type": "code",
   "execution_count": 13,
   "metadata": {},
   "outputs": [
    {
     "data": {
      "image/png": "[encoded data removed]",
      "text/plain": [
       "<Figure size 300x200 with 1 Axes>"
      ]
     },
     "metadata": {},
     "output_type": "display_data"
    }
   ],
   "source": [
    "x_n = np.linspace(0, 2, 100)\n",
    "x_t = torch.tensor(x_n, requires_grad=True)\n",
    "\n",
    "f1_x = torch.zeros_like(x_t)\n",
    "for i, _x in enumerate(x_t):\n",
    "    f1_x[i] = grad(f1(_x), _x)\n",
    "\n",
    "plt.figure(figsize=(3,2))\n",
    "plt.plot(x_n, df1(x_n), '-', label='exact')\n",
    "plt.plot(x_n, f1_x.detach().numpy(), '--', label='auto grad')\n",
    "plt.legend()\n",
    "plt.show()"
   ]
  },
  {
   "attachments": {},
   "cell_type": "markdown",
   "metadata": {},
   "source": [
    "### $f : \\mathbb{R}^3 \\to \\mathbb{R}$. First and Second Derivatives of one vector argument."
   ]
  },
  {
   "cell_type": "code",
   "execution_count": 4,
   "metadata": {},
   "outputs": [],
   "source": [
    "def grad_vector_input(output, input):\n",
    "    if output.shape[-1] == 1:\n",
    "        return grad(output, input)\n",
    "    else:\n",
    "        return torch.stack([grad(f, input) for f in output])"
   ]
  },
  {
   "cell_type": "code",
   "execution_count": 5,
   "metadata": {},
   "outputs": [
    {
     "name": "stdout",
     "output_type": "stream",
     "text": [
      "tensor([6., 0., 0.], dtype=torch.float64, grad_fn=<ReshapeAliasBackward0>)\n",
      "tensor([[6., 0., 0.],\n",
      "        [0., 6., 0.],\n",
      "        [0., 0., 6.]], dtype=torch.float64)\n"
     ]
    }
   ],
   "source": [
    "@torch_func\n",
    "def f2(x: ('vector')):\n",
    "    return a * inner_product(x, x)\n",
    "\n",
    "def df2(x: ('vector')):\n",
    "    return 2 * a * x\n",
    "\n",
    "def ddf2(x: ('vector')):\n",
    "    return 2 * a * torch.eye(x.shape[0])\n",
    "\n",
    "x_n = np.array([1.0, 0, 0])\n",
    "x_t = torch.tensor(x_n, requires_grad=True)\n",
    "\n",
    "print(grad_vector_input(f2(x_t), x_t))\n",
    "print(grad_vector_input(grad_vector_input(f2(x_t), x_t), x_t))\n",
    "\n",
    "assert torch.all(df2(x_t) == grad_vector_input(f2(x_t), x_t))\n",
    "assert torch.all(ddf2(x_t) == grad_vector_input(grad_vector_input(f2(x_t), x_t), x_t))"
   ]
  },
  {
   "attachments": {},
   "cell_type": "markdown",
   "metadata": {},
   "source": [
    "### Draft For alternative design of torch_func wrapper function and annotations"
   ]
  },
  {
   "attachments": {},
   "cell_type": "markdown",
   "metadata": {},
   "source": [
    "I've worked on an alternative implementation to my existing torch helper library.\n",
    "My alternative convention is that input variables, `x`,  are\n",
    "denoted `'nD'`. So if we have $m$ vector-valued datapoints, $x \\in \\mathbb{R}^{n \\times m}$.\n",
    "\n",
    "This could be used for figuring out how to automatically\n",
    "calculate gradients of multiple inputs at the same time\n",
    "and calculate gradients of vector valued functions.\n",
    "\n",
    "However, I have not followed this path of implementation, since\n",
    "it for the moment seems over-engineered."
   ]
  },
  {
   "cell_type": "code",
   "execution_count": 5,
   "metadata": {},
   "outputs": [
    {
     "data": {
      "text/plain": [
       "tensor([[3.]])"
      ]
     },
     "execution_count": 5,
     "metadata": {},
     "output_type": "execute_result"
    }
   ],
   "source": [
    "\n",
    "# import torch\n",
    "# import inspect\n",
    "# from warnings import warn\n",
    "# import re\n",
    "\n",
    "# def to_torch(*vars, dim, dtype='torch.FloatTensor', detach=False):\n",
    "#     def convert(var):\n",
    "#         if isinstance(var, torch.Tensor):\n",
    "#             T = var.type(dtype)\n",
    "#         else:\n",
    "#             T = torch.tensor(var).type(dtype)\n",
    "        \n",
    "#         if detach:\n",
    "#             return T.detach()\n",
    "#         else:\n",
    "#             return T\n",
    "    \n",
    "#     if len(vars) == 1:\n",
    "#         return convert(vars[0]).reshape(dim, -1)\n",
    "#     else:\n",
    "#         return (convert(var).reshape(dim, -1) for var in vars)\n",
    "\n",
    "# def torch_func(func):\n",
    "#     def torch_wrap(*args, **kwargs):\n",
    "#         signature = inspect.signature(func)\n",
    "#         assert signature.parameters.keys() == func.__annotations__.keys(), 'Error: All parameters of a torch function should be annotated. Use the annotation \\'any\\', to avoid passing parameter to a torch tensor.'\n",
    "#         args_keys = [*func.__annotations__.keys()][:len(args)]\n",
    "#         args_with_keys = dict(zip(args_keys, args))\n",
    "#         default_kwargs = { k: v.default for k, v in signature.parameters.items() if v.default is not inspect.Parameter.empty }\n",
    "#         all_kwargs = {**default_kwargs, **args_with_keys, **kwargs}\n",
    "#         try:\n",
    "#             torch_kwargs = {}\n",
    "#             for i, (var_name, annotation) in enumerate(func.__annotations__.items()):\n",
    "#                 if isinstance(annotation, str):\n",
    "#                     dim_match = re.search('^(\\d*)D$', annotation)\n",
    "#                     if dim_match:\n",
    "#                         dim = int(dim_match.group(1))\n",
    "#                         v = to_torch(all_kwargs[var_name], dim=dim)\n",
    "#                     elif annotation == 'any':\n",
    "#                         v = all_kwargs[var_name]\n",
    "#                     else:\n",
    "#                         warn('unsupported annotation: \\'' + str(annotation) + '\\'. Use the annotation \\'any\\' to avoid passing a parameter to a torch tensor.')\n",
    "#                 else:\n",
    "#                     dim_matches = [re.search('^(\\d*)D$', a) for a in annotation]\n",
    "#                     if any(dim_matches):\n",
    "#                         dim = int([m for m in dim_matches if m is not None][0].group(1))\n",
    "#                         v = to_torch(all_kwargs[var_name], dim=dim, detach='detach' in annotation)\n",
    "#                     else:\n",
    "#                         warn('unsupported annotation: \\'' + str(annotation) + '\\'. Use the annotation \\'any\\' to avoid passing a parameter to a torch tensor.')\n",
    "#                 torch_kwargs[var_name] = v\n",
    "\n",
    "#             return func(**torch_kwargs)\n",
    "#         except:\n",
    "#             warn('parsing to torch tensors failed for arguments: ')\n",
    "#             print(all_kwargs)\n",
    "#             return func(*args, **kwargs)\n",
    "#     torch_wrap.__annotations__ = func.__annotations__\n",
    "#     return torch_wrap\n",
    "\n",
    "# @torch_func\n",
    "# def f(x: ('1D')):\n",
    "#     return x\n",
    "\n",
    "# f(np.array([3.0]))"
   ]
  },
  {
   "cell_type": "code",
   "execution_count": 44,
   "metadata": {},
   "outputs": [],
   "source": [
    "# # Note: From the function annotations we might be able to build a differentiating function\n",
    "# # which can both handle f: R->R, f: R^n -> R and f: R^n -> R^l.\n",
    "# # as well as arguments of dimensions R, R^(1 x m), R^(n x 1) and R^(n x m)\n",
    "\n",
    "# def diff(func, at: dict, wrt: list[str]):\n",
    "#     annotations = func.__annotations__\n",
    "#     ..."
   ]
  }
 ],
 "metadata": {
  "kernelspec": {
   "display_name": "ray-tracer",
   "language": "python",
   "name": "python3"
  },
  "language_info": {
   "codemirror_mode": {
    "name": "ipython",
    "version": 3
   },
   "file_extension": ".py",
   "mimetype": "text/x-python",
   "name": "python",
   "nbconvert_exporter": "python",
   "pygments_lexer": "ipython3",
   "version": "3.9.12"
  },
  "orig_nbformat": 4
 },
 "nbformat": 4,
 "nbformat_minor": 2
}
