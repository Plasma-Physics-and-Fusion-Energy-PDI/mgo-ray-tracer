{
 "cells": [
  {
   "cell_type": "code",
   "execution_count": 3,
   "metadata": {},
   "outputs": [],
   "source": [
    "import sys\n",
    "sys.path.append('../MGO')\n",
    "import numpy as np\n",
    "import matplotlib.pyplot as plt\n",
    "from matplotlib import rcParams\n",
    "import matplotlib as mpl\n",
    "import sympy as sp\n",
    "from IPython.display import display, Math"
   ]
  },
  {
   "cell_type": "code",
   "execution_count": 4,
   "metadata": {},
   "outputs": [
    {
     "data": {
      "text/latex": [
       "$\\displaystyle D = $"
      ],
      "text/plain": [
       "<IPython.core.display.Math object>"
      ]
     },
     "metadata": {},
     "output_type": "display_data"
    },
    {
     "data": {
      "text/latex": [
       "$\\displaystyle - k^{2} - x$"
      ],
      "text/plain": [
       "-k**2 - x"
      ]
     },
     "metadata": {},
     "output_type": "display_data"
    },
    {
     "data": {
      "text/plain": [
       "'RHS_x'"
      ]
     },
     "metadata": {},
     "output_type": "display_data"
    },
    {
     "data": {
      "text/latex": [
       "$\\displaystyle 2 k$"
      ],
      "text/plain": [
       "2*k"
      ]
     },
     "metadata": {},
     "output_type": "display_data"
    },
    {
     "data": {
      "text/plain": [
       "'RHS_k'"
      ]
     },
     "metadata": {},
     "output_type": "display_data"
    },
    {
     "data": {
      "text/latex": [
       "$\\displaystyle -1$"
      ],
      "text/plain": [
       "-1"
      ]
     },
     "metadata": {},
     "output_type": "display_data"
    },
    {
     "data": {
      "text/latex": [
       "$\\displaystyle x{\\left(\\tau \\right)} = - k_{0}^{2} + 2 k_{0} \\tau - \\tau^{2}$"
      ],
      "text/plain": [
       "Eq(x(tau), -k_0**2 + 2*k_0*tau - tau**2)"
      ]
     },
     "metadata": {},
     "output_type": "display_data"
    },
    {
     "data": {
      "text/latex": [
       "$\\displaystyle k{\\left(\\tau \\right)} = k_{0} - \\tau$"
      ],
      "text/plain": [
       "Eq(k(tau), k_0 - tau)"
      ]
     },
     "metadata": {},
     "output_type": "display_data"
    },
    {
     "name": "stdout",
     "output_type": "stream",
     "text": [
      "latex z:  \\left[\\begin{matrix}- \\left(k_{0} - \\tau\\right)^{2}\\\\k_{0} - \\tau\\end{matrix}\\right]\n"
     ]
    },
    {
     "data": {
      "text/latex": [
       "$\\displaystyle z =$"
      ],
      "text/plain": [
       "<IPython.core.display.Math object>"
      ]
     },
     "metadata": {},
     "output_type": "display_data"
    },
    {
     "data": {
      "text/latex": [
       "$\\displaystyle \\left[\\begin{matrix}- \\left(k_{0} - \\tau\\right)^{2}\\\\k_{0} - \\tau\\end{matrix}\\right]$"
      ],
      "text/plain": [
       "Matrix([\n",
       "[-(k_0 - tau)**2],\n",
       "[      k_0 - tau]])"
      ]
     },
     "metadata": {},
     "output_type": "display_data"
    },
    {
     "data": {
      "text/latex": [
       "$\\displaystyle dz/d tau =$"
      ],
      "text/plain": [
       "<IPython.core.display.Math object>"
      ]
     },
     "metadata": {},
     "output_type": "display_data"
    },
    {
     "data": {
      "text/latex": [
       "$\\displaystyle \\left[\\begin{matrix}2 k_{0} - 2 \\tau\\\\-1\\end{matrix}\\right]$"
      ],
      "text/plain": [
       "Matrix([\n",
       "[2*k_0 - 2*tau],\n",
       "[           -1]])"
      ]
     },
     "metadata": {},
     "output_type": "display_data"
    },
    {
     "data": {
      "text/plain": [
       "'Nt_int'"
      ]
     },
     "metadata": {},
     "output_type": "display_data"
    },
    {
     "data": {
      "text/latex": [
       "$\\displaystyle 2 k_{0}^{2} t - 2 k_{0} t^{2} + \\frac{2 t^{3}}{3}$"
      ],
      "text/plain": [
       "2*k_0**2*t - 2*k_0*t**2 + 2*t**3/3"
      ]
     },
     "metadata": {},
     "output_type": "display_data"
    },
    {
     "name": "stdout",
     "output_type": "stream",
     "text": [
      "Nt_int 2 k_{0}^{2} t - 2 k_{0} t^{2} + \\frac{2 t^{3}}{3}\n"
     ]
    }
   ],
   "source": [
    "tau, t, E, k, x = sp.symbols('tau t E k x')\n",
    "k0 = sp.symbols('k_0', positive=True)\n",
    "D = - k**2 - x\n",
    "RHS_x = - sp.diff(D, k)\n",
    "RHS_k = sp.diff(D, x)\n",
    "display(Math('D = '), D)\n",
    "\n",
    "display('RHS_x', RHS_x)\n",
    "display('RHS_k', RHS_k)\n",
    "\n",
    "x, k = sp.Function('x'), sp.Function('k')\n",
    "ode = [sp.Derivative(x(tau), tau) - RHS_x.subs({'k': k(tau), 'x': x(tau)}),\n",
    "       sp.Derivative(k(tau), tau) - RHS_k.subs({'k': k(tau), 'x': x(tau)})]\n",
    "ics = {k(0): k0, x(0): -k0**2}\n",
    "sol = sp.dsolve(ode, ics=ics)\n",
    "display(*sol)\n",
    "x, k = sp.factor(sol[0].rhs), sp.factor(sol[1].rhs)\n",
    "z = sp.Matrix([[x], [k]])\n",
    "print('latex z: ', sp.latex(z))\n",
    "display(Math('z ='), z)\n",
    "display(Math('dz/d tau ='), sp.diff(z, tau))\n",
    "\n",
    "Nt_int = sp.integrate(k*sp.diff(x, tau), (tau, 0, t))\n",
    "display('Nt_int', Nt_int)\n",
    "print('Nt_int', sp.latex(Nt_int))\n"
   ]
  },
  {
   "cell_type": "markdown",
   "metadata": {},
   "source": [
    "**Manual Simplification**\n",
    "\n",
    "Notice that $z = (-k^2(\\tau), k(\\tau))$ and $\\frac{dz}{d\\tau} = (2 k(\\tau), -1)$."
   ]
  },
  {
   "cell_type": "code",
   "execution_count": 5,
   "metadata": {},
   "outputs": [
    {
     "data": {
      "text/latex": [
       "$\\displaystyle \\left[\\begin{matrix}2 k{\\left(\\tau \\right)}\\\\-1\\end{matrix}\\right]$"
      ],
      "text/plain": [
       "Matrix([\n",
       "[2*k(tau)],\n",
       "[      -1]])"
      ]
     },
     "metadata": {},
     "output_type": "display_data"
    },
    {
     "name": "stdout",
     "output_type": "stream",
     "text": [
      "dzdtau: \\left[\\begin{matrix}2 k{\\left(\\tau \\right)}\\\\-1\\end{matrix}\\right]\n"
     ]
    },
    {
     "data": {
      "text/plain": [
       "'Q_t:'"
      ]
     },
     "metadata": {},
     "output_type": "display_data"
    },
    {
     "data": {
      "text/latex": [
       "$\\displaystyle \\left[\\begin{matrix}\\frac{2 k{\\left(t \\right)}}{\\sqrt{4 k^{2}{\\left(t \\right)} + 1}}\\\\- \\frac{1}{\\sqrt{4 k^{2}{\\left(t \\right)} + 1}}\\end{matrix}\\right]$"
      ],
      "text/plain": [
       "Matrix([\n",
       "[2*k(t)/sqrt(4*k(t)**2 + 1)],\n",
       "[    -1/sqrt(4*k(t)**2 + 1)]])"
      ]
     },
     "metadata": {},
     "output_type": "display_data"
    },
    {
     "data": {
      "text/plain": [
       "'R_t:'"
      ]
     },
     "metadata": {},
     "output_type": "display_data"
    },
    {
     "data": {
      "text/latex": [
       "$\\displaystyle \\sqrt{4 k^{2}{\\left(t \\right)} + 1}$"
      ],
      "text/plain": [
       "sqrt(4*k(t)**2 + 1)"
      ]
     },
     "metadata": {},
     "output_type": "display_data"
    },
    {
     "data": {
      "text/plain": [
       "'A_t:'"
      ]
     },
     "metadata": {},
     "output_type": "display_data"
    },
    {
     "data": {
      "text/latex": [
       "$\\displaystyle \\left[\\begin{matrix}\\frac{2 k{\\left(t \\right)}}{\\sqrt{4 k^{2}{\\left(t \\right)} + 1}}\\end{matrix}\\right]$"
      ],
      "text/plain": [
       "Matrix([[2*k(t)/sqrt(4*k(t)**2 + 1)]])"
      ]
     },
     "metadata": {},
     "output_type": "display_data"
    },
    {
     "data": {
      "text/plain": [
       "'B_t:'"
      ]
     },
     "metadata": {},
     "output_type": "display_data"
    },
    {
     "data": {
      "text/latex": [
       "$\\displaystyle \\left[\\begin{matrix}- \\frac{1}{\\sqrt{4 k^{2}{\\left(t \\right)} + 1}}\\end{matrix}\\right]$"
      ],
      "text/plain": [
       "Matrix([[-1/sqrt(4*k(t)**2 + 1)]])"
      ]
     },
     "metadata": {},
     "output_type": "display_data"
    },
    {
     "name": "stdout",
     "output_type": "stream",
     "text": [
      "Q_t: \\left[\\begin{matrix}\\frac{2 k{\\left(t \\right)}}{\\sqrt{4 k^{2}{\\left(t \\right)} + 1}}\\\\- \\frac{1}{\\sqrt{4 k^{2}{\\left(t \\right)} + 1}}\\end{matrix}\\right]\n",
      "R_t: \\sqrt{4 k^{2}{\\left(t \\right)} + 1}\n"
     ]
    },
    {
     "data": {
      "text/plain": [
       "'N_t:'"
      ]
     },
     "metadata": {},
     "output_type": "display_data"
    },
    {
     "data": {
      "text/latex": [
       "$\\displaystyle \\frac{\\sqrt{2} e^{i \\left(2 k_{0}^{2} t - 2 k_{0} t^{2} + \\frac{2 t^{3}}{3}\\right)}}{2 \\sqrt{\\pi} \\sqrt{- i}}$"
      ],
      "text/plain": [
       "sqrt(2)*exp(I*(2*k_0**2*t - 2*k_0*t**2 + 2*t**3/3))/(2*sqrt(pi)*sqrt(-I))"
      ]
     },
     "metadata": {},
     "output_type": "display_data"
    }
   ],
   "source": [
    "k = sp.Function('k', real=True)\n",
    "dzdtau = sp.Matrix([[2*k(tau)], [-1]])\n",
    "display(dzdtau)\n",
    "print('dzdtau:', sp.latex(dzdtau))\n",
    "\n",
    "Q, R = dzdtau.QRdecomposition()\n",
    "Q_t, R_t = Q.subs(tau, t), R[0].subs(tau, t)\n",
    "A_t, B_t = sp.Matrix([Q_t[0]]), sp.Matrix([Q_t[1]])\n",
    "Lambda_t = B_t.singular_values()[0]\n",
    "display('Q_t:', Q_t)\n",
    "display('R_t:', R_t)\n",
    "display('A_t:', A_t)\n",
    "display('B_t:', B_t)\n",
    "\n",
    "print('Q_t:', sp.latex(Q_t))\n",
    "print('R_t:', sp.latex(R_t))\n",
    "\n",
    "sigma_t = 1\n",
    "N_t = (sigma_t * sp.exp(sp.I * Nt_int) /\n",
    "       (sp.sqrt(-2*sp.pi*sp.I) * sp.sqrt(Lambda_t * R_t)))\n",
    "display('N_t:', N_t)"
   ]
  },
  {
   "cell_type": "markdown",
   "metadata": {},
   "source": [
    "**Manual simplifaction**\n",
    "\n",
    "Let $\\vartheta_t = \\sqrt{4k^2(t) + 1}$"
   ]
  },
  {
   "cell_type": "code",
   "execution_count": 6,
   "metadata": {},
   "outputs": [
    {
     "data": {
      "text/plain": [
       "'A_t'"
      ]
     },
     "metadata": {},
     "output_type": "display_data"
    },
    {
     "data": {
      "text/latex": [
       "$\\displaystyle \\frac{2 k{\\left(t \\right)}}{\\vartheta_{t}}$"
      ],
      "text/plain": [
       "2*k(t)/vartheta_t"
      ]
     },
     "metadata": {},
     "output_type": "display_data"
    },
    {
     "data": {
      "text/plain": [
       "'B_t'"
      ]
     },
     "metadata": {},
     "output_type": "display_data"
    },
    {
     "data": {
      "text/latex": [
       "$\\displaystyle - \\frac{1}{\\vartheta_{t}}$"
      ],
      "text/plain": [
       "-1/vartheta_t"
      ]
     },
     "metadata": {},
     "output_type": "display_data"
    },
    {
     "data": {
      "text/plain": [
       "'S_t'"
      ]
     },
     "metadata": {},
     "output_type": "display_data"
    },
    {
     "data": {
      "text/latex": [
       "$\\displaystyle \\left[\\begin{matrix}\\frac{2 k{\\left(t \\right)}}{\\vartheta_{t}} & - \\frac{1}{\\vartheta_{t}}\\\\\\frac{1}{\\vartheta_{t}} & \\frac{2 k{\\left(t \\right)}}{\\vartheta_{t}}\\end{matrix}\\right]$"
      ],
      "text/plain": [
       "Matrix([\n",
       "[2*k(t)/vartheta_t,     -1/vartheta_t],\n",
       "[     1/vartheta_t, 2*k(t)/vartheta_t]])"
      ]
     },
     "metadata": {},
     "output_type": "display_data"
    },
    {
     "data": {
      "text/plain": [
       "'Z_t'"
      ]
     },
     "metadata": {},
     "output_type": "display_data"
    },
    {
     "data": {
      "text/latex": [
       "$\\displaystyle \\left[\\begin{matrix}- \\frac{2 k{\\left(t \\right)} k^{2}{\\left(\\tau \\right)}}{\\vartheta_{t}} - \\frac{k{\\left(\\tau \\right)}}{\\vartheta_{t}}\\\\\\frac{2 k{\\left(t \\right)} k{\\left(\\tau \\right)}}{\\vartheta_{t}} - \\frac{k^{2}{\\left(\\tau \\right)}}{\\vartheta_{t}}\\end{matrix}\\right]$"
      ],
      "text/plain": [
       "Matrix([\n",
       "[-2*k(t)*k(tau)**2/vartheta_t - k(tau)/vartheta_t],\n",
       "[ 2*k(t)*k(tau)/vartheta_t - k(tau)**2/vartheta_t]])"
      ]
     },
     "metadata": {},
     "output_type": "display_data"
    }
   ],
   "source": [
    "v_t = sp.symbols('vartheta_t')\n",
    "z = sp.Matrix([-k(tau)**2, k(tau)])\n",
    "A_t = 2*k(t)/v_t\n",
    "B_t = -1/v_t\n",
    "display('A_t', A_t, 'B_t', B_t)\n",
    "S_t = sp.Matrix([[A_t, B_t], [-B_t, A_t]])\n",
    "display('S_t', S_t)\n",
    "Z_t = S_t@z\n",
    "display('Z_t', Z_t)"
   ]
  },
  {
   "cell_type": "code",
   "execution_count": 7,
   "metadata": {},
   "outputs": [
    {
     "data": {
      "text/plain": [
       "'gradtau_X_t'"
      ]
     },
     "metadata": {},
     "output_type": "display_data"
    },
    {
     "data": {
      "text/latex": [
       "$\\displaystyle \\frac{4 k{\\left(t \\right)} k{\\left(\\tau \\right)} + 1}{\\vartheta_{t}}$"
      ],
      "text/plain": [
       "(4*k(t)*k(tau) + 1)/vartheta_t"
      ]
     },
     "metadata": {},
     "output_type": "display_data"
    },
    {
     "name": "stdout",
     "output_type": "stream",
     "text": [
      "gradtau_X_t: \\frac{4 k{\\left(t \\right)} k{\\left(\\tau \\right)} + 1}{\\vartheta_{t}}\n"
     ]
    }
   ],
   "source": [
    "X_t = Z_t[0]\n",
    "gradtau_X_t = sp.simplify(sp.diff(X_t, tau).subs(sp.Derivative(k(tau), tau), -1))\n",
    "display('gradtau_X_t', gradtau_X_t)\n",
    "print('gradtau_X_t:', sp.latex(gradtau_X_t))"
   ]
  },
  {
   "cell_type": "code",
   "execution_count": 8,
   "metadata": {},
   "outputs": [
    {
     "data": {
      "text/plain": [
       "'Phi_t'"
      ]
     },
     "metadata": {},
     "output_type": "display_data"
    },
    {
     "data": {
      "text/latex": [
       "$\\displaystyle \\sqrt{4 k^{2}{\\left(t \\right)} + 1} \\sqrt{\\frac{1}{4 k{\\left(t \\right)} k{\\left(\\tau \\right)} + 1}}$"
      ],
      "text/plain": [
       "sqrt(4*k(t)**2 + 1)*sqrt(1/(4*k(t)*k(tau) + 1))"
      ]
     },
     "metadata": {},
     "output_type": "display_data"
    }
   ],
   "source": [
    "J_t = gradtau_X_t\n",
    "Phi_t = sp.sqrt(J_t.subs(tau, t)/J_t.subs(tau, tau))\n",
    "display('Phi_t', Phi_t)"
   ]
  },
  {
   "cell_type": "code",
   "execution_count": 9,
   "metadata": {},
   "outputs": [
    {
     "data": {
      "text/plain": [
       "'Phi_t'"
      ]
     },
     "metadata": {},
     "output_type": "display_data"
    },
    {
     "data": {
      "text/latex": [
       "$\\displaystyle \\frac{\\vartheta_{t}}{\\sqrt{4 k{\\left(t \\right)} k{\\left(\\tau \\right)} + 1}}$"
      ],
      "text/plain": [
       "vartheta_t/sqrt(4*k(t)*k(tau) + 1)"
      ]
     },
     "metadata": {},
     "output_type": "display_data"
    }
   ],
   "source": [
    "Phi_t = v_t / sp.sqrt(1 + 4 * k(t) * k(tau))\n",
    "display('Phi_t', Phi_t)"
   ]
  },
  {
   "cell_type": "code",
   "execution_count": 10,
   "metadata": {},
   "outputs": [
    {
     "data": {
      "text/latex": [
       "$\\displaystyle \\frac{\\left(4 \\left(t - \\tau + k{\\left(t \\right)}\\right) k{\\left(t \\right)} + 1\\right) \\left(- t + \\tau + k{\\left(t \\right)}\\right) \\left(t - \\tau + k{\\left(t \\right)}\\right)}{\\vartheta_{t}^{2}}$"
      ],
      "text/plain": [
       "(4*(t - tau + k(t))*k(t) + 1)*(-t + tau + k(t))*(t - tau + k(t))/vartheta_t**2"
      ]
     },
     "execution_count": 10,
     "metadata": {},
     "output_type": "execute_result"
    }
   ],
   "source": [
    "sp.simplify(J_t*Z_t[1]).subs(k(tau), k(t) + (t-tau))"
   ]
  },
  {
   "cell_type": "code",
   "execution_count": 11,
   "metadata": {},
   "outputs": [
    {
     "data": {
      "text/plain": [
       "'tau_X_t_sols'"
      ]
     },
     "metadata": {},
     "output_type": "display_data"
    },
    {
     "data": {
      "text/latex": [
       "$\\displaystyle \\frac{4 k_{0} k{\\left(t \\right)} - \\sqrt{- 8 X_{t} \\vartheta_{t} k{\\left(t \\right)} + 1} + 1}{4 k{\\left(t \\right)}}$"
      ],
      "text/plain": [
       "(4*k_0*k(t) - sqrt(-8*X_t*vartheta_t*k(t) + 1) + 1)/(4*k(t))"
      ]
     },
     "metadata": {},
     "output_type": "display_data"
    },
    {
     "data": {
      "text/latex": [
       "$\\displaystyle \\frac{4 k_{0} k{\\left(t \\right)} + \\sqrt{- 8 X_{t} \\vartheta_{t} k{\\left(t \\right)} + 1} + 1}{4 k{\\left(t \\right)}}$"
      ],
      "text/plain": [
       "(4*k_0*k(t) + sqrt(-8*X_t*vartheta_t*k(t) + 1) + 1)/(4*k(t))"
      ]
     },
     "metadata": {},
     "output_type": "display_data"
    }
   ],
   "source": [
    "X_t = sp.symbols('X_t', real=True)\n",
    "tau_X_t_sols = sp.solve(sp.Eq(X_t, sp.simplify(Z_t[0]).subs(k(tau), k0 - tau)), tau)\n",
    "display('tau_X_t_sols', tau_X_t_sols[0], tau_X_t_sols[1])"
   ]
  },
  {
   "cell_type": "code",
   "execution_count": 12,
   "metadata": {},
   "outputs": [],
   "source": [
    "tau_X_t = tau_X_t_sols[0]"
   ]
  },
  {
   "cell_type": "code",
   "execution_count": 16,
   "metadata": {},
   "outputs": [
    {
     "data": {
      "text/latex": [
       "$\\displaystyle \\frac{\\vartheta_{t}}{\\sqrt[4]{- 8 X_{t} \\vartheta_{t} k{\\left(t \\right)} + 1}}$"
      ],
      "text/plain": [
       "vartheta_t/(-8*X_t*vartheta_t*k(t) + 1)**(1/4)"
      ]
     },
     "execution_count": 16,
     "metadata": {},
     "output_type": "execute_result"
    }
   ],
   "source": [
    "X_t = sp.symbols('X_t', real=True)\n",
    "k0_minus_tau_X_t = - (1 - sp.sqrt(1 - 8*k(t)*v_t*X_t))/(4*k(t))\n",
    "Phi_t = v_t / sp.sqrt(1 + 4 * k(t) * k0_minus_tau_X_t)\n",
    "Phi_t"
   ]
  },
  {
   "cell_type": "code",
   "execution_count": 17,
   "metadata": {},
   "outputs": [
    {
     "data": {
      "text/plain": [
       "'tau_X_t_sols'"
      ]
     },
     "metadata": {},
     "output_type": "display_data"
    },
    {
     "data": {
      "text/latex": [
       "$\\displaystyle \\frac{4 k_{0} k{\\left(t \\right)} - \\sqrt{- 8 X_{t} \\vartheta_{t} k{\\left(t \\right)} + 1} + 1}{4 k{\\left(t \\right)}}$"
      ],
      "text/plain": [
       "(4*k_0*k(t) - sqrt(-8*X_t*vartheta_t*k(t) + 1) + 1)/(4*k(t))"
      ]
     },
     "metadata": {},
     "output_type": "display_data"
    },
    {
     "data": {
      "text/latex": [
       "$\\displaystyle \\frac{4 k_{0} k{\\left(t \\right)} + \\sqrt{- 8 X_{t} \\vartheta_{t} k{\\left(t \\right)} + 1} + 1}{4 k{\\left(t \\right)}}$"
      ],
      "text/plain": [
       "(4*k_0*k(t) + sqrt(-8*X_t*vartheta_t*k(t) + 1) + 1)/(4*k(t))"
      ]
     },
     "metadata": {},
     "output_type": "display_data"
    }
   ],
   "source": [
    "X_t = sp.symbols('X_t', real=True)\n",
    "tau_X_t_sols = sp.solve(sp.Eq(X_t, sp.simplify(Z_t[0]).subs(k(tau), k0 - tau)), tau)\n",
    "display('tau_X_t_sols', tau_X_t_sols[0], tau_X_t_sols[1])"
   ]
  },
  {
   "cell_type": "markdown",
   "metadata": {},
   "source": [
    "**Manual Simplification**\n",
    "\n",
    "Choose a branch and simplify"
   ]
  },
  {
   "cell_type": "code",
   "execution_count": 18,
   "metadata": {},
   "outputs": [
    {
     "data": {
      "text/plain": [
       "'tau_X_t'"
      ]
     },
     "metadata": {},
     "output_type": "display_data"
    },
    {
     "data": {
      "text/latex": [
       "$\\displaystyle k_{0} + \\frac{1 - \\sqrt{- 8 X_{t} \\vartheta_{t} k{\\left(t \\right)} + 1}}{4 k{\\left(t \\right)}}$"
      ],
      "text/plain": [
       "k_0 + (1 - sqrt(-8*X_t*vartheta_t*k(t) + 1))/(4*k(t))"
      ]
     },
     "metadata": {},
     "output_type": "display_data"
    },
    {
     "name": "stdout",
     "output_type": "stream",
     "text": [
      "tau_X_t: k_{0} + \\frac{1 - \\sqrt{- 8 X_{t} \\vartheta_{t} k{\\left(t \\right)} + 1}}{4 k{\\left(t \\right)}}\n"
     ]
    },
    {
     "data": {
      "text/latex": [
       "$\\displaystyle - \\frac{1 - \\sqrt{- 8 X_{t} \\vartheta_{t} k{\\left(t \\right)} + 1}}{4 k{\\left(t \\right)}}$"
      ],
      "text/plain": [
       "-(1 - sqrt(-8*X_t*vartheta_t*k(t) + 1))/(4*k(t))"
      ]
     },
     "metadata": {},
     "output_type": "display_data"
    },
    {
     "data": {
      "text/plain": [
       "'K_X_t'"
      ]
     },
     "metadata": {},
     "output_type": "display_data"
    },
    {
     "data": {
      "text/latex": [
       "$\\displaystyle - \\frac{\\left(1 - \\sqrt{- 8 X_{t} \\vartheta_{t} k{\\left(t \\right)} + 1}\\right)^{2}}{16 \\vartheta_{t} k^{2}{\\left(t \\right)}} - \\frac{1 - \\sqrt{- 8 X_{t} \\vartheta_{t} k{\\left(t \\right)} + 1}}{2 \\vartheta_{t}}$"
      ],
      "text/plain": [
       "-(1 - sqrt(-8*X_t*vartheta_t*k(t) + 1))**2/(16*vartheta_t*k(t)**2) - (1 - sqrt(-8*X_t*vartheta_t*k(t) + 1))/(2*vartheta_t)"
      ]
     },
     "metadata": {},
     "output_type": "display_data"
    },
    {
     "data": {
      "text/plain": [
       "'K_X_t'"
      ]
     },
     "metadata": {},
     "output_type": "display_data"
    },
    {
     "data": {
      "text/latex": [
       "$\\displaystyle \\frac{4 X_{t} k{\\left(t \\right)} + \\sqrt{- 8 X_{t} \\sqrt{4 k^{2}{\\left(t \\right)} + 1} k{\\left(t \\right)} + 1} \\sqrt{4 k^{2}{\\left(t \\right)} + 1} - \\sqrt{4 k^{2}{\\left(t \\right)} + 1}}{8 k^{2}{\\left(t \\right)}}$"
      ],
      "text/plain": [
       "(4*X_t*k(t) + sqrt(-8*X_t*sqrt(4*k(t)**2 + 1)*k(t) + 1)*sqrt(4*k(t)**2 + 1) - sqrt(4*k(t)**2 + 1))/(8*k(t)**2)"
      ]
     },
     "metadata": {},
     "output_type": "display_data"
    }
   ],
   "source": [
    "tau_X_t = k0 + (1 - sp.sqrt(1-8*X_t*v_t*k(t)))/(4*k(t))\n",
    "display('tau_X_t', tau_X_t)\n",
    "print('tau_X_t:', sp.latex(tau_X_t))\n",
    "\n",
    "k_X_T = k0 - tau_X_t\n",
    "display(k_X_T)\n",
    "\n",
    "K_X_t = Z_t[1].subs(k(tau), k_X_T)\n",
    "display('K_X_t', K_X_t)\n",
    "display('K_X_t', sp.simplify(K_X_t.subs(v_t, sp.sqrt(1+4*k(t)**2))))"
   ]
  },
  {
   "cell_type": "markdown",
   "metadata": {},
   "source": [
    "**Manual Simplification**"
   ]
  },
  {
   "cell_type": "code",
   "execution_count": 19,
   "metadata": {},
   "outputs": [
    {
     "data": {
      "text/plain": [
       "'K_X_t'"
      ]
     },
     "metadata": {},
     "output_type": "display_data"
    },
    {
     "data": {
      "text/latex": [
       "$\\displaystyle \\frac{4 X_{t} k{\\left(t \\right)} + \\vartheta_{t} \\left(\\sqrt{- 8 X_{t} \\vartheta_{t} k{\\left(t \\right)} + 1} - 1\\right)}{8 k^{2}{\\left(t \\right)}}$"
      ],
      "text/plain": [
       "(4*X_t*k(t) + vartheta_t*(sqrt(-8*X_t*vartheta_t*k(t) + 1) - 1))/(8*k(t)**2)"
      ]
     },
     "metadata": {},
     "output_type": "display_data"
    },
    {
     "data": {
      "text/plain": [
       "'K_X_t'"
      ]
     },
     "metadata": {},
     "output_type": "display_data"
    },
    {
     "data": {
      "text/plain": [
       "'\\\\frac{4 X_{t} k{\\\\left(t \\\\right)} + \\\\vartheta_{t} \\\\left(\\\\sqrt{- 8 X_{t} \\\\vartheta_{t} k{\\\\left(t \\\\right)} + 1} - 1\\\\right)}{8 k^{2}{\\\\left(t \\\\right)}}'"
      ]
     },
     "metadata": {},
     "output_type": "display_data"
    }
   ],
   "source": [
    "K_X_t = ((4*X_t*k(t)\n",
    "          + v_t * (\n",
    "              -1 + sp.sqrt(1 - 8 * k(t) * v_t * X_t)) )\n",
    "         /( 8 * k(t)**2 ))\n",
    "display('K_X_t', K_X_t)\n",
    "display('K_X_t', sp.latex(K_X_t))"
   ]
  },
  {
   "cell_type": "code",
   "execution_count": 20,
   "metadata": {},
   "outputs": [
    {
     "data": {
      "text/latex": [
       "$\\displaystyle \\frac{\\frac{2 X_{t}^{3} k{\\left(t \\right)}}{3} - \\frac{X_{t}^{2} \\vartheta_{t}}{2} + \\frac{2 \\vartheta_{t} \\left(\\begin{cases} \\frac{\\frac{\\left(- 8 X_{t} \\vartheta_{t} k{\\left(t \\right)} + 1\\right)^{\\frac{5}{2}}}{5} - \\frac{\\left(- 8 X_{t} \\vartheta_{t} k{\\left(t \\right)} + 1\\right)^{\\frac{3}{2}}}{3}}{32 \\vartheta_{t}^{2} k^{2}{\\left(t \\right)}} & \\text{for}\\: \\vartheta_{t} k{\\left(t \\right)} \\neq 0 \\\\\\frac{X_{t}^{2}}{2} & \\text{otherwise} \\end{cases}\\right)}{3} - \\frac{\\begin{cases} - \\frac{\\left(- 8 X_{t} \\vartheta_{t} k{\\left(t \\right)} + 1\\right)^{\\frac{3}{2}}}{12 \\vartheta_{t} k{\\left(t \\right)}} & \\text{for}\\: \\vartheta_{t} k{\\left(t \\right)} \\neq 0 \\\\X_{t} & \\text{otherwise} \\end{cases}}{12 k{\\left(t \\right)}}}{8 k^{2}{\\left(t \\right)}}$"
      ],
      "text/plain": [
       "(2*X_t**3*k(t)/3 - X_t**2*vartheta_t/2 + 2*vartheta_t*Piecewise((((-8*X_t*vartheta_t*k(t) + 1)**(5/2)/5 - (-8*X_t*vartheta_t*k(t) + 1)**(3/2)/3)/(32*vartheta_t**2*k(t)**2), Ne(vartheta_t*k(t), 0)), (X_t**2/2, True))/3 - Piecewise((-(-8*X_t*vartheta_t*k(t) + 1)**(3/2)/(12*vartheta_t*k(t)), Ne(vartheta_t*k(t), 0)), (X_t, True))/(12*k(t)))/(8*k(t)**2)"
      ]
     },
     "execution_count": 20,
     "metadata": {},
     "output_type": "execute_result"
    }
   ],
   "source": [
    "epsilon = sp.symbols('epsilon')\n",
    "sp.integrate(K_X_t, X_t, X_t)"
   ]
  },
  {
   "cell_type": "markdown",
   "metadata": {},
   "source": [
    "manual simplification"
   ]
  },
  {
   "cell_type": "code",
   "execution_count": 21,
   "metadata": {},
   "outputs": [
    {
     "data": {
      "text/plain": [
       "'(4*k_0*k(t) + sqrt(-8*X_t*vartheta_t*k(t) + 1) + 1)/(4*k(t))'"
      ]
     },
     "execution_count": 21,
     "metadata": {},
     "output_type": "execute_result"
    }
   ],
   "source": [
    "str(tau_X_t_sols[1])"
   ]
  },
  {
   "cell_type": "markdown",
   "metadata": {},
   "source": [
    "**Manual Simplification**\n",
    "\n",
    "Notice that $z = (-k^2(\\tau), k(\\tau))$ and $\\frac{dz}{d\\tau} = (2 k(\\tau), -1)$."
   ]
  },
  {
   "cell_type": "code",
   "execution_count": 25,
   "metadata": {},
   "outputs": [
    {
     "data": {
      "text/latex": [
       "$\\displaystyle \\left[\\begin{matrix}2 k{\\left(\\tau \\right)}\\\\-1\\end{matrix}\\right]$"
      ],
      "text/plain": [
       "Matrix([\n",
       "[2*k(tau)],\n",
       "[      -1]])"
      ]
     },
     "metadata": {},
     "output_type": "display_data"
    },
    {
     "name": "stdout",
     "output_type": "stream",
     "text": [
      "dzdtau: \\left[\\begin{matrix}2 k{\\left(\\tau \\right)}\\\\-1\\end{matrix}\\right]\n"
     ]
    },
    {
     "data": {
      "text/plain": [
       "'Q_t:'"
      ]
     },
     "metadata": {},
     "output_type": "display_data"
    },
    {
     "data": {
      "text/latex": [
       "$\\displaystyle \\left[\\begin{matrix}\\frac{2 k{\\left(t \\right)}}{\\sqrt{4 k^{2}{\\left(t \\right)} + 1}}\\\\- \\frac{1}{\\sqrt{4 k^{2}{\\left(t \\right)} + 1}}\\end{matrix}\\right]$"
      ],
      "text/plain": [
       "Matrix([\n",
       "[2*k(t)/sqrt(4*k(t)**2 + 1)],\n",
       "[    -1/sqrt(4*k(t)**2 + 1)]])"
      ]
     },
     "metadata": {},
     "output_type": "display_data"
    },
    {
     "data": {
      "text/plain": [
       "'R_t:'"
      ]
     },
     "metadata": {},
     "output_type": "display_data"
    },
    {
     "data": {
      "text/latex": [
       "$\\displaystyle \\sqrt{4 k^{2}{\\left(t \\right)} + 1}$"
      ],
      "text/plain": [
       "sqrt(4*k(t)**2 + 1)"
      ]
     },
     "metadata": {},
     "output_type": "display_data"
    },
    {
     "data": {
      "text/plain": [
       "'A_t:'"
      ]
     },
     "metadata": {},
     "output_type": "display_data"
    },
    {
     "data": {
      "text/latex": [
       "$\\displaystyle \\left[\\begin{matrix}\\frac{2 k{\\left(t \\right)}}{\\sqrt{4 k^{2}{\\left(t \\right)} + 1}}\\end{matrix}\\right]$"
      ],
      "text/plain": [
       "Matrix([[2*k(t)/sqrt(4*k(t)**2 + 1)]])"
      ]
     },
     "metadata": {},
     "output_type": "display_data"
    },
    {
     "data": {
      "text/plain": [
       "'B_t:'"
      ]
     },
     "metadata": {},
     "output_type": "display_data"
    },
    {
     "data": {
      "text/latex": [
       "$\\displaystyle \\left[\\begin{matrix}- \\frac{1}{\\sqrt{4 k^{2}{\\left(t \\right)} + 1}}\\end{matrix}\\right]$"
      ],
      "text/plain": [
       "Matrix([[-1/sqrt(4*k(t)**2 + 1)]])"
      ]
     },
     "metadata": {},
     "output_type": "display_data"
    },
    {
     "name": "stdout",
     "output_type": "stream",
     "text": [
      "Q_t: \\left[\\begin{matrix}\\frac{2 k{\\left(t \\right)}}{\\sqrt{4 k^{2}{\\left(t \\right)} + 1}}\\\\- \\frac{1}{\\sqrt{4 k^{2}{\\left(t \\right)} + 1}}\\end{matrix}\\right]\n",
      "R_t: \\sqrt{4 k^{2}{\\left(t \\right)} + 1}\n"
     ]
    },
    {
     "data": {
      "text/plain": [
       "'N_t:'"
      ]
     },
     "metadata": {},
     "output_type": "display_data"
    },
    {
     "data": {
      "text/latex": [
       "$\\displaystyle \\frac{\\sqrt{2} e^{i \\left(2 k_{0}^{2} t - 2 k_{0} t^{2} + \\frac{2 t^{3}}{3}\\right)}}{2 \\sqrt{\\pi} \\sqrt{- i}}$"
      ],
      "text/plain": [
       "sqrt(2)*exp(I*(2*k_0**2*t - 2*k_0*t**2 + 2*t**3/3))/(2*sqrt(pi)*sqrt(-I))"
      ]
     },
     "metadata": {},
     "output_type": "display_data"
    }
   ],
   "source": [
    "k = sp.Function('k', real=True)\n",
    "dzdtau = sp.Matrix([[2*k(tau)], [-1]])\n",
    "display(dzdtau)\n",
    "print('dzdtau:', sp.latex(dzdtau))\n",
    "\n",
    "Q, R = dzdtau.QRdecomposition()\n",
    "Q_t, R_t = Q.subs(tau, t), R[0].subs(tau, t)\n",
    "A_t, B_t = sp.Matrix([Q_t[0]]), sp.Matrix([Q_t[1]])\n",
    "Lambda_t = B_t.singular_values()[0]\n",
    "display('Q_t:', Q_t)\n",
    "display('R_t:', R_t)\n",
    "display('A_t:', A_t)\n",
    "display('B_t:', B_t)\n",
    "\n",
    "print('Q_t:', sp.latex(Q_t))\n",
    "print('R_t:', sp.latex(R_t))\n",
    "\n",
    "sigma_t = 1\n",
    "N_t = (sigma_t * sp.exp(sp.I * Nt_int) /\n",
    "       (sp.sqrt(-2*sp.pi*sp.I) * sp.sqrt(Lambda_t * R_t)))\n",
    "display('N_t:', N_t)"
   ]
  }
 ],
 "metadata": {
  "kernelspec": {
   "display_name": "ray-tracer",
   "language": "python",
   "name": "python3"
  },
  "language_info": {
   "codemirror_mode": {
    "name": "ipython",
    "version": 3
   },
   "file_extension": ".py",
   "mimetype": "text/x-python",
   "name": "python",
   "nbconvert_exporter": "python",
   "pygments_lexer": "ipython3",
   "version": "3.9.12"
  },
  "orig_nbformat": 4
 },
 "nbformat": 4,
 "nbformat_minor": 2
}
