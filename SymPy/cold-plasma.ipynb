{
 "cells": [
  {
   "cell_type": "code",
   "execution_count": 151,
   "metadata": {},
   "outputs": [],
   "source": [
    "from sympy import *\n",
    "from sympy import solvers\n",
    "from sympy.plotting import plot"
   ]
  },
  {
   "cell_type": "code",
   "execution_count": 152,
   "metadata": {},
   "outputs": [],
   "source": [
    "X, Y, omega = symbols('X Y \\\\omega', positive=True)\n",
    "N, theta, Gamma = symbols('N \\\\theta \\\\Gamma')"
   ]
  },
  {
   "cell_type": "code",
   "execution_count": 153,
   "metadata": {},
   "outputs": [
    {
     "data": {
      "text/latex": [
       "$\\displaystyle \\sqrt{Y^{4} \\sin^{4}{\\left(\\theta \\right)} + 4 Y^{2} \\left(1 - X\\right)^{2} \\cos^{2}{\\left(\\theta \\right)}}$"
      ],
      "text/plain": [
       "sqrt(Y**4*sin(\\theta)**4 + 4*Y**2*(1 - X)**2*cos(\\theta)**2)"
      ]
     },
     "execution_count": 153,
     "metadata": {},
     "output_type": "execute_result"
    }
   ],
   "source": [
    "Gamma = sqrt(Y**4 * sin(theta)**4 + 4*Y**2*(1-X)**2*cos(theta)**2)\n",
    "Gamma"
   ]
  },
  {
   "attachments": {},
   "cell_type": "markdown",
   "metadata": {},
   "source": [
    "**O-Mode**"
   ]
  },
  {
   "cell_type": "code",
   "execution_count": 154,
   "metadata": {},
   "outputs": [
    {
     "data": {
      "text/latex": [
       "$\\displaystyle - N^{2} - \\frac{2 X \\left(1 - X\\right)}{- 2 X - Y^{2} \\sin^{2}{\\left(\\theta \\right)} + \\sqrt{Y^{4} \\sin^{4}{\\left(\\theta \\right)} + 4 Y^{2} \\left(1 - X\\right)^{2} \\cos^{2}{\\left(\\theta \\right)}} + 2} + 1$"
      ],
      "text/plain": [
       "-N**2 - 2*X*(1 - X)/(-2*X - Y**2*sin(\\theta)**2 + sqrt(Y**4*sin(\\theta)**4 + 4*Y**2*(1 - X)**2*cos(\\theta)**2) + 2) + 1"
      ]
     },
     "execution_count": 154,
     "metadata": {},
     "output_type": "execute_result"
    }
   ],
   "source": [
    "D_O = 1 - 2*X*(1-X)/(2*(1-X) - Y**2 * sin(theta)**2 + Gamma) - N**2\n",
    "D_O"
   ]
  },
  {
   "attachments": {},
   "cell_type": "markdown",
   "metadata": {},
   "source": [
    "O-mode at $90^{\\circ}$"
   ]
  },
  {
   "cell_type": "code",
   "execution_count": 155,
   "metadata": {},
   "outputs": [
    {
     "data": {
      "text/latex": [
       "$\\displaystyle - N^{2} - X + 1$"
      ],
      "text/plain": [
       "-N**2 - X + 1"
      ]
     },
     "execution_count": 155,
     "metadata": {},
     "output_type": "execute_result"
    }
   ],
   "source": [
    "simplify(D_O.subs(theta, pi/2))"
   ]
  },
  {
   "attachments": {},
   "cell_type": "markdown",
   "metadata": {},
   "source": [
    "**X-mode**"
   ]
  },
  {
   "cell_type": "code",
   "execution_count": 156,
   "metadata": {},
   "outputs": [
    {
     "data": {
      "text/latex": [
       "$\\displaystyle - N^{2} - \\frac{2 X \\left(1 - X\\right)}{- 2 X - Y^{2} \\sin^{2}{\\left(\\theta \\right)} - \\sqrt{Y^{4} \\sin^{4}{\\left(\\theta \\right)} + 4 Y^{2} \\left(1 - X\\right)^{2} \\cos^{2}{\\left(\\theta \\right)}} + 2} + 1$"
      ],
      "text/plain": [
       "-N**2 - 2*X*(1 - X)/(-2*X - Y**2*sin(\\theta)**2 - sqrt(Y**4*sin(\\theta)**4 + 4*Y**2*(1 - X)**2*cos(\\theta)**2) + 2) + 1"
      ]
     },
     "execution_count": 156,
     "metadata": {},
     "output_type": "execute_result"
    }
   ],
   "source": [
    "D_X = 1 - 2*X*(1-X)/(2*(1-X) - Y**2 * sin(theta)**2 - Gamma) - N**2\n",
    "D_X"
   ]
  },
  {
   "attachments": {},
   "cell_type": "markdown",
   "metadata": {},
   "source": [
    "X-mode at $90^\\circ$"
   ]
  },
  {
   "cell_type": "code",
   "execution_count": 157,
   "metadata": {},
   "outputs": [
    {
     "data": {
      "text/latex": [
       "$\\displaystyle - N^{2} - \\frac{2 X \\left(1 - X\\right)}{- 2 X - 2 Y^{2} + 2} + 1$"
      ],
      "text/plain": [
       "-N**2 - 2*X*(1 - X)/(-2*X - 2*Y**2 + 2) + 1"
      ]
     },
     "execution_count": 157,
     "metadata": {},
     "output_type": "execute_result"
    }
   ],
   "source": [
    "D_X.subs(theta, pi/2)"
   ]
  },
  {
   "attachments": {},
   "cell_type": "markdown",
   "metadata": {},
   "source": [
    "We can simplify the above slightly more:\n",
    "$$\n",
    "D = - N^{2} - \\frac{X \\left(1 - X\\right)}{1 - X - Y^{2}} + 1\n",
    "$$"
   ]
  },
  {
   "attachments": {},
   "cell_type": "markdown",
   "metadata": {},
   "source": [
    "### Solve for X"
   ]
  },
  {
   "cell_type": "code",
   "execution_count": 158,
   "metadata": {},
   "outputs": [
    {
     "data": {
      "text/latex": [
       "$\\displaystyle 1 - N^{2}$"
      ],
      "text/plain": [
       "1 - N**2"
      ]
     },
     "execution_count": 158,
     "metadata": {},
     "output_type": "execute_result"
    }
   ],
   "source": [
    "solve(D_O.subs(theta, pi/2),X)[0]"
   ]
  },
  {
   "cell_type": "code",
   "execution_count": 159,
   "metadata": {},
   "outputs": [
    {
     "data": {
      "text/latex": [
       "$\\displaystyle - \\frac{N^{2}}{2} - \\frac{\\sqrt{N^{4} - 4 N^{2} Y^{2} + 4 Y^{2}}}{2} + 1$"
      ],
      "text/plain": [
       "-N**2/2 - sqrt(N**4 - 4*N**2*Y**2 + 4*Y**2)/2 + 1"
      ]
     },
     "execution_count": 159,
     "metadata": {},
     "output_type": "execute_result"
    }
   ],
   "source": [
    "solve(D_X.subs(theta, pi/2),X)[0]"
   ]
  },
  {
   "cell_type": "code",
   "execution_count": 165,
   "metadata": {},
   "outputs": [
    {
     "data": {
      "text/latex": [
       "$\\displaystyle - \\frac{2 X \\left(1 - X\\right)}{1.68 - 2 X}$"
      ],
      "text/plain": [
       "-2*X*(1 - X)/(1.68 - 2*X)"
      ]
     },
     "execution_count": 165,
     "metadata": {},
     "output_type": "execute_result"
    }
   ],
   "source": [
    "D_X.subs(theta, pi/2).subs(Y, 0.4).subs(N, 1)"
   ]
  },
  {
   "cell_type": "code",
   "execution_count": 184,
   "metadata": {},
   "outputs": [],
   "source": [
    "# D_X_90 = D_X.subs(theta, pi/2).subs(Y, 0.4).subs(N, 1)\n",
    "# plot(D_X_90, (X, 0, 2))"
   ]
  }
 ],
 "metadata": {
  "kernelspec": {
   "display_name": "ray-tracer",
   "language": "python",
   "name": "python3"
  },
  "language_info": {
   "codemirror_mode": {
    "name": "ipython",
    "version": 3
   },
   "file_extension": ".py",
   "mimetype": "text/x-python",
   "name": "python",
   "nbconvert_exporter": "python",
   "pygments_lexer": "ipython3",
   "version": "3.9.12 (main, Jun  1 2022, 06:36:29) \n[Clang 12.0.0 ]"
  },
  "orig_nbformat": 4,
  "vscode": {
   "interpreter": {
    "hash": "3298b92d58aaa69353730033450b78d316314054e545ed2e7289b6188a451cbf"
   }
  }
 },
 "nbformat": 4,
 "nbformat_minor": 2
}
